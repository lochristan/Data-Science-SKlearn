{
 "cells": [
  {
   "cell_type": "code",
   "execution_count": 3,
   "id": "323b2548",
   "metadata": {},
   "outputs": [
    {
     "data": {
      "text/html": [
       "<div>\n",
       "<style scoped>\n",
       "    .dataframe tbody tr th:only-of-type {\n",
       "        vertical-align: middle;\n",
       "    }\n",
       "\n",
       "    .dataframe tbody tr th {\n",
       "        vertical-align: top;\n",
       "    }\n",
       "\n",
       "    .dataframe thead th {\n",
       "        text-align: right;\n",
       "    }\n",
       "</style>\n",
       "<table border=\"1\" class=\"dataframe\">\n",
       "  <thead>\n",
       "    <tr style=\"text-align: right;\">\n",
       "      <th></th>\n",
       "      <th>diameter</th>\n",
       "      <th>harga</th>\n",
       "    </tr>\n",
       "  </thead>\n",
       "  <tbody>\n",
       "    <tr>\n",
       "      <th>0</th>\n",
       "      <td>6</td>\n",
       "      <td>7.0</td>\n",
       "    </tr>\n",
       "    <tr>\n",
       "      <th>1</th>\n",
       "      <td>8</td>\n",
       "      <td>9.0</td>\n",
       "    </tr>\n",
       "    <tr>\n",
       "      <th>2</th>\n",
       "      <td>10</td>\n",
       "      <td>13.0</td>\n",
       "    </tr>\n",
       "    <tr>\n",
       "      <th>3</th>\n",
       "      <td>14</td>\n",
       "      <td>17.5</td>\n",
       "    </tr>\n",
       "    <tr>\n",
       "      <th>4</th>\n",
       "      <td>18</td>\n",
       "      <td>18.0</td>\n",
       "    </tr>\n",
       "  </tbody>\n",
       "</table>\n",
       "</div>"
      ],
      "text/plain": [
       "   diameter  harga\n",
       "0         6    7.0\n",
       "1         8    9.0\n",
       "2        10   13.0\n",
       "3        14   17.5\n",
       "4        18   18.0"
      ]
     },
     "execution_count": 3,
     "metadata": {},
     "output_type": "execute_result"
    }
   ],
   "source": [
    "import pandas as a\n",
    "pizza = {'diameter' : [6, 8, 10, 14, 18],\n",
    "         'harga' : [7, 9, 13, 17.5, 18]}\n",
    "pizza_df = a.DataFrame(pizza)\n",
    "pizza_df"
   ]
  },
  {
   "cell_type": "code",
   "execution_count": 4,
   "id": "00b6d9e8",
   "metadata": {},
   "outputs": [
    {
     "data": {
      "image/png": "[encoded data removed]",
      "text/plain": [
       "<Figure size 432x288 with 1 Axes>"
      ]
     },
     "metadata": {
      "needs_background": "light"
     },
     "output_type": "display_data"
    }
   ],
   "source": [
    "import matplotlib.pyplot as b\n",
    "pizza_df.plot(kind = 'scatter', x = 'diameter', y = 'harga')\n",
    "b.title('perbandingan diameter dan harga pizza')\n",
    "b.xlabel('diameter (inch)')\n",
    "b.ylabel('harga (dollar)')\n",
    "b.xlim(0,25)\n",
    "b.ylim(0,25)\n",
    "b.grid(True)\n",
    "b.show()"
   ]
  },
  {
   "cell_type": "code",
   "execution_count": 7,
   "id": "520eeac2",
   "metadata": {},
   "outputs": [
    {
     "name": "stdout",
     "output_type": "stream",
     "text": [
      "x : [ 6  8 10 14 18]\n",
      "y : [ 7.   9.  13.  17.5 18. ]\n"
     ]
    }
   ],
   "source": [
    "import numpy as c\n",
    "x = c.array(pizza_df['diameter'])\n",
    "y = c.array(pizza_df['harga'])\n",
    "print(f'x : {x}')\n",
    "print(f'y : {y}')"
   ]
  },
  {
   "cell_type": "code",
   "execution_count": 8,
   "id": "e285d184",
   "metadata": {},
   "outputs": [
    {
     "data": {
      "text/plain": [
       "(5, 1)"
      ]
     },
     "execution_count": 8,
     "metadata": {},
     "output_type": "execute_result"
    }
   ],
   "source": [
    "x = x.reshape(-1, 1)\n",
    "x.shape"
   ]
  },
  {
   "cell_type": "raw",
   "id": "288adc34",
   "metadata": {},
   "source": [
    "x"
   ]
  },
  {
   "cell_type": "code",
   "execution_count": 10,
   "id": "61d1cc03",
   "metadata": {},
   "outputs": [
    {
     "data": {
      "text/plain": [
       "LinearRegression()"
      ]
     },
     "execution_count": 10,
     "metadata": {},
     "output_type": "execute_result"
    }
   ],
   "source": [
    "from sklearn.linear_model import LinearRegression\n",
    "model = LinearRegression()\n",
    "model.fit(x, y)"
   ]
  },
  {
   "cell_type": "code",
   "execution_count": 11,
   "id": "6ff42259",
   "metadata": {},
   "outputs": [],
   "source": [
    "x_vis = c.array([0, 25]).reshape(-1, 1)\n",
    "y_vis = model.predict(x_vis)"
   ]
  },
  {
   "cell_type": "code",
   "execution_count": 12,
   "id": "d59337b5",
   "metadata": {},
   "outputs": [
    {
     "data": {
      "image/png": "[encoded data removed]",
      "text/plain": [
       "<Figure size 432x288 with 1 Axes>"
      ]
     },
     "metadata": {
      "needs_background": "light"
     },
     "output_type": "display_data"
    }
   ],
   "source": [
    "b.scatter(x, y)\n",
    "b.plot(x_vis, y_vis, '-r')\n",
    "b.title('perbandingan diameter dan harga pizza')\n",
    "b.xlabel('diameter (inch)')\n",
    "b.ylabel('harga (dollar)')\n",
    "b.xlim(0, 25)\n",
    "b.ylim(0, 25)\n",
    "b.grid(True)\n",
    "b.show()"
   ]
  },
  {
   "cell_type": "code",
   "execution_count": 13,
   "id": "e30633d0",
   "metadata": {},
   "outputs": [
    {
     "name": "stdout",
     "output_type": "stream",
     "text": [
      "x : \n",
      "[[ 6]\n",
      " [ 8]\n",
      " [10]\n",
      " [14]\n",
      " [18]]\n",
      "\n",
      "x flatten: [ 6  8 10 14 18]\n",
      "\n",
      "y : [ 7.   9.  13.  17.5 18. ]\n"
     ]
    }
   ],
   "source": [
    "print(f'x : \\n{x}\\n')\n",
    "print(f'x flatten: {x.flatten()}\\n')\n",
    "print(f'y : {y}')"
   ]
  },
  {
   "cell_type": "code",
   "execution_count": 14,
   "id": "59517ff8",
   "metadata": {},
   "outputs": [
    {
     "name": "stdout",
     "output_type": "stream",
     "text": [
      "variance : 23.2\n"
     ]
    }
   ],
   "source": [
    "variance_x = c.var(x.flatten(), ddof = 1)\n",
    "print(f'variance : {variance_x}')"
   ]
  },
  {
   "cell_type": "code",
   "execution_count": 15,
   "id": "8e911615",
   "metadata": {},
   "outputs": [
    {
     "data": {
      "text/plain": [
       "array([[23.2 , 22.65],\n",
       "       [22.65, 24.3 ]])"
      ]
     },
     "execution_count": 15,
     "metadata": {},
     "output_type": "execute_result"
    }
   ],
   "source": [
    "c.cov(x.flatten(), y)"
   ]
  },
  {
   "cell_type": "code",
   "execution_count": 16,
   "id": "9bfa57cd",
   "metadata": {},
   "outputs": [
    {
     "name": "stdout",
     "output_type": "stream",
     "text": [
      "covariance : 22.65\n"
     ]
    }
   ],
   "source": [
    "covariance_xy = c.cov(x.flatten(), y)[0][1]\n",
    "print(f'covariance : {covariance_xy}')"
   ]
  },
  {
   "cell_type": "code",
   "execution_count": 18,
   "id": "0a042e51",
   "metadata": {},
   "outputs": [
    {
     "name": "stdout",
     "output_type": "stream",
     "text": [
      "slope : 0.9762931034482758\n"
     ]
    }
   ],
   "source": [
    "slope = covariance_xy / variance_x\n",
    "print(f'slope : {slope}')"
   ]
  },
  {
   "cell_type": "code",
   "execution_count": 19,
   "id": "32ca1023",
   "metadata": {},
   "outputs": [
    {
     "name": "stdout",
     "output_type": "stream",
     "text": [
      "intercept: 1.9655172413793114\n"
     ]
    }
   ],
   "source": [
    "intercept = c.mean(y) - slope * c.mean(x)\n",
    "print(f'intercept: {intercept}')"
   ]
  },
  {
   "cell_type": "code",
   "execution_count": 20,
   "id": "b0209a93",
   "metadata": {},
   "outputs": [
    {
     "name": "stdout",
     "output_type": "stream",
     "text": [
      "intercept : 1.965517241379315\n",
      "slope : [0.9762931]\n"
     ]
    }
   ],
   "source": [
    "print(f'intercept : {model.intercept_}')\n",
    "print(f'slope : {model.coef_}')"
   ]
  },
  {
   "cell_type": "code",
   "execution_count": 21,
   "id": "78d001d1",
   "metadata": {},
   "outputs": [
    {
     "data": {
      "text/plain": [
       "array([[12],\n",
       "       [20],\n",
       "       [23]])"
      ]
     },
     "execution_count": 21,
     "metadata": {},
     "output_type": "execute_result"
    }
   ],
   "source": [
    "diameter_pizza = c.array([12, 20, 23]).reshape(-1, 1)\n",
    "diameter_pizza"
   ]
  },
  {
   "cell_type": "code",
   "execution_count": 22,
   "id": "f9448f0a",
   "metadata": {},
   "outputs": [
    {
     "data": {
      "text/plain": [
       "array([13.68103448, 21.49137931, 24.42025862])"
      ]
     },
     "execution_count": 22,
     "metadata": {},
     "output_type": "execute_result"
    }
   ],
   "source": [
    "prediksi_harga = model.predict(diameter_pizza)\n",
    "prediksi_harga"
   ]
  },
  {
   "cell_type": "code",
   "execution_count": 23,
   "id": "2a4eeb73",
   "metadata": {},
   "outputs": [
    {
     "name": "stdout",
     "output_type": "stream",
     "text": [
      "diameter: [12] prediksi harga : 13.681034482758621\n",
      "diameter: [20] prediksi harga : 21.491379310344826\n",
      "diameter: [23] prediksi harga : 24.42025862068965\n"
     ]
    }
   ],
   "source": [
    "for dmtr, hrg in zip(diameter_pizza, prediksi_harga):\n",
    "    print(f'diameter: {dmtr} prediksi harga : {hrg}')"
   ]
  },
  {
   "cell_type": "code",
   "execution_count": 25,
   "id": "71fb725f",
   "metadata": {},
   "outputs": [],
   "source": [
    "x_train = c.array ([6, 8, 10, 14, 18]).reshape(-1, 1)\n",
    "y_train = c.array ([7, 9, 13, 17.5, 18])\n",
    "x_test = c.array ([8, 9, 11, 16, 12]).reshape(-1, 1)\n",
    "y_test = c.array ([11, 8.5, 15, 18, 11])"
   ]
  },
  {
   "cell_type": "code",
   "execution_count": 26,
   "id": "1f771e47",
   "metadata": {},
   "outputs": [
    {
     "data": {
      "text/plain": [
       "LinearRegression()"
      ]
     },
     "execution_count": 26,
     "metadata": {},
     "output_type": "execute_result"
    }
   ],
   "source": [
    "model = LinearRegression()\n",
    "model.fit(x_train, y_train)"
   ]
  },
  {
   "cell_type": "code",
   "execution_count": 27,
   "id": "4be56d14",
   "metadata": {},
   "outputs": [
    {
     "name": "stdout",
     "output_type": "stream",
     "text": [
      "R-squared : 0.6620052929422553\n"
     ]
    }
   ],
   "source": [
    "from sklearn.metrics import r2_score\n",
    "y_pred = model.predict(x_test)\n",
    "r_squared = r2_score(y_test, y_pred)\n",
    "print(f'R-squared : {r_squared}')"
   ]
  },
  {
   "cell_type": "code",
   "execution_count": 28,
   "id": "263bd628",
   "metadata": {},
   "outputs": [
    {
     "name": "stdout",
     "output_type": "stream",
     "text": [
      "ss_res: 19.1980993608799\n"
     ]
    }
   ],
   "source": [
    "ss_res = sum([(y_i - model.predict(x_i.reshape(-1, 1))[0])**2\n",
    "              for x_i, y_i in zip(x_test, y_test)])\n",
    "print(f'ss_res: {ss_res}')"
   ]
  },
  {
   "cell_type": "code",
   "execution_count": 29,
   "id": "70327cca",
   "metadata": {},
   "outputs": [
    {
     "name": "stdout",
     "output_type": "stream",
     "text": [
      "ss_tot: 56.8\n"
     ]
    }
   ],
   "source": [
    "mean_y = c.mean(y_test)\n",
    "ss_tot = sum([(y_i - mean_y)**2 for y_i in y_test])\n",
    "print(f'ss_tot: {ss_tot}')"
   ]
  },
  {
   "cell_type": "code",
   "execution_count": 30,
   "id": "4b1543b6",
   "metadata": {},
   "outputs": [
    {
     "name": "stdout",
     "output_type": "stream",
     "text": [
      "R_squared : 0.6620052929422553\n"
     ]
    }
   ],
   "source": [
    "r_squared = 1 - (ss_res / ss_tot)\n",
    "print(f'R_squared : {r_squared}')"
   ]
  }
 ],
 "metadata": {
  "kernelspec": {
   "display_name": "Python 3",
   "language": "python",
   "name": "python3"
  },
  "language_info": {
   "codemirror_mode": {
    "name": "ipython",
    "version": 3
   },
   "file_extension": ".py",
   "mimetype": "text/x-python",
   "name": "python",
   "nbconvert_exporter": "python",
   "pygments_lexer": "ipython3",
   "version": "3.8.8"
  }
 },
 "nbformat": 4,
 "nbformat_minor": 5
}
