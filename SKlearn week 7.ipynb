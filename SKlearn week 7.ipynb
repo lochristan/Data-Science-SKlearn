{
 "cells": [
  {
   "cell_type": "code",
   "execution_count": 1,
   "id": "fd0a3093",
   "metadata": {},
   "outputs": [
    {
     "data": {
      "text/html": [
       "<div>\n",
       "<style scoped>\n",
       "    .dataframe tbody tr th:only-of-type {\n",
       "        vertical-align: middle;\n",
       "    }\n",
       "\n",
       "    .dataframe tbody tr th {\n",
       "        vertical-align: top;\n",
       "    }\n",
       "\n",
       "    .dataframe thead th {\n",
       "        text-align: right;\n",
       "    }\n",
       "</style>\n",
       "<table border=\"1\" class=\"dataframe\">\n",
       "  <thead>\n",
       "    <tr style=\"text-align: right;\">\n",
       "      <th></th>\n",
       "      <th>diameter</th>\n",
       "      <th>n_topping</th>\n",
       "      <th>harga</th>\n",
       "    </tr>\n",
       "  </thead>\n",
       "  <tbody>\n",
       "    <tr>\n",
       "      <th>0</th>\n",
       "      <td>6</td>\n",
       "      <td>2</td>\n",
       "      <td>7.0</td>\n",
       "    </tr>\n",
       "    <tr>\n",
       "      <th>1</th>\n",
       "      <td>8</td>\n",
       "      <td>1</td>\n",
       "      <td>9.0</td>\n",
       "    </tr>\n",
       "    <tr>\n",
       "      <th>2</th>\n",
       "      <td>10</td>\n",
       "      <td>0</td>\n",
       "      <td>13.0</td>\n",
       "    </tr>\n",
       "    <tr>\n",
       "      <th>3</th>\n",
       "      <td>14</td>\n",
       "      <td>2</td>\n",
       "      <td>17.5</td>\n",
       "    </tr>\n",
       "    <tr>\n",
       "      <th>4</th>\n",
       "      <td>18</td>\n",
       "      <td>0</td>\n",
       "      <td>18.0</td>\n",
       "    </tr>\n",
       "  </tbody>\n",
       "</table>\n",
       "</div>"
      ],
      "text/plain": [
       "   diameter  n_topping  harga\n",
       "0         6          2    7.0\n",
       "1         8          1    9.0\n",
       "2        10          0   13.0\n",
       "3        14          2   17.5\n",
       "4        18          0   18.0"
      ]
     },
     "execution_count": 1,
     "metadata": {},
     "output_type": "execute_result"
    }
   ],
   "source": [
    "import pandas as a\n",
    "\n",
    "pizza = {'diameter' : [6, 8 ,10, 14, 18],\n",
    "         'n_topping' : [2, 1, 0, 2, 0],\n",
    "         'harga' : [7, 9, 13, 17.5, 18]}\n",
    "train_pizza_df = a.DataFrame(pizza)\n",
    "train_pizza_df"
   ]
  },
  {
   "cell_type": "code",
   "execution_count": 2,
   "id": "3a7a4e15",
   "metadata": {},
   "outputs": [
    {
     "data": {
      "text/html": [
       "<div>\n",
       "<style scoped>\n",
       "    .dataframe tbody tr th:only-of-type {\n",
       "        vertical-align: middle;\n",
       "    }\n",
       "\n",
       "    .dataframe tbody tr th {\n",
       "        vertical-align: top;\n",
       "    }\n",
       "\n",
       "    .dataframe thead th {\n",
       "        text-align: right;\n",
       "    }\n",
       "</style>\n",
       "<table border=\"1\" class=\"dataframe\">\n",
       "  <thead>\n",
       "    <tr style=\"text-align: right;\">\n",
       "      <th></th>\n",
       "      <th>diameter</th>\n",
       "      <th>n_topping</th>\n",
       "      <th>harga</th>\n",
       "    </tr>\n",
       "  </thead>\n",
       "  <tbody>\n",
       "    <tr>\n",
       "      <th>0</th>\n",
       "      <td>8</td>\n",
       "      <td>2</td>\n",
       "      <td>11.0</td>\n",
       "    </tr>\n",
       "    <tr>\n",
       "      <th>1</th>\n",
       "      <td>9</td>\n",
       "      <td>0</td>\n",
       "      <td>8.5</td>\n",
       "    </tr>\n",
       "    <tr>\n",
       "      <th>2</th>\n",
       "      <td>11</td>\n",
       "      <td>2</td>\n",
       "      <td>15.0</td>\n",
       "    </tr>\n",
       "    <tr>\n",
       "      <th>3</th>\n",
       "      <td>16</td>\n",
       "      <td>2</td>\n",
       "      <td>18.0</td>\n",
       "    </tr>\n",
       "    <tr>\n",
       "      <th>4</th>\n",
       "      <td>12</td>\n",
       "      <td>0</td>\n",
       "      <td>11.0</td>\n",
       "    </tr>\n",
       "  </tbody>\n",
       "</table>\n",
       "</div>"
      ],
      "text/plain": [
       "   diameter  n_topping  harga\n",
       "0         8          2   11.0\n",
       "1         9          0    8.5\n",
       "2        11          2   15.0\n",
       "3        16          2   18.0\n",
       "4        12          0   11.0"
      ]
     },
     "execution_count": 2,
     "metadata": {},
     "output_type": "execute_result"
    }
   ],
   "source": [
    "pizza = {'diameter' : [8, 9 ,11, 16, 12],\n",
    "         'n_topping' : [2, 0, 2, 2, 0],\n",
    "         'harga' : [11, 8.5, 15, 18, 11]}\n",
    "train_pizza_df = a.DataFrame(pizza)\n",
    "train_pizza_df"
   ]
  },
  {
   "cell_type": "code",
   "execution_count": 3,
   "id": "99d9bfb0",
   "metadata": {},
   "outputs": [
    {
     "name": "stdout",
     "output_type": "stream",
     "text": [
      "x_train : \n",
      "[[ 8  2]\n",
      " [ 9  0]\n",
      " [11  2]\n",
      " [16  2]\n",
      " [12  0]]\n",
      "\n",
      "y_train : \n",
      "[11.   8.5 15.  18.  11. ]\n"
     ]
    }
   ],
   "source": [
    "import numpy as b\n",
    "x_train = b.array(train_pizza_df[['diameter', 'n_topping']])\n",
    "y_train = b.array(train_pizza_df['harga'])\n",
    "print(f'x_train : \\n{x_train}\\n')\n",
    "print(f'y_train : \\n{y_train}')"
   ]
  },
  {
   "cell_type": "code",
   "execution_count": 4,
   "id": "cda75ea7",
   "metadata": {},
   "outputs": [
    {
     "name": "stdout",
     "output_type": "stream",
     "text": [
      "x_test : \n",
      "[[ 8  2]\n",
      " [ 9  0]\n",
      " [11  2]\n",
      " [16  2]\n",
      " [12  0]]\n",
      "\n",
      "y_test : \n",
      "[11.   8.5 15.  18.  11. ]\n"
     ]
    }
   ],
   "source": [
    "x_test = b.array(train_pizza_df[['diameter', 'n_topping']])\n",
    "y_test = b.array(train_pizza_df['harga'])\n",
    "print(f'x_test : \\n{x_test}\\n')\n",
    "print(f'y_test : \\n{y_test}')"
   ]
  },
  {
   "cell_type": "code",
   "execution_count": 5,
   "id": "b74d6bc0",
   "metadata": {},
   "outputs": [
    {
     "name": "stdout",
     "output_type": "stream",
     "text": [
      "r_squared : 0.9782495420956231\n"
     ]
    }
   ],
   "source": [
    "from sklearn.linear_model import LinearRegression\n",
    "from sklearn.metrics import r2_score\n",
    "model = LinearRegression()\n",
    "model.fit(x_train, y_train)\n",
    "y_pred = model.predict(x_test)\n",
    "print(f'r_squared : {r2_score(y_test, y_pred)}')"
   ]
  },
  {
   "cell_type": "code",
   "execution_count": 7,
   "id": "4e9276a6",
   "metadata": {},
   "outputs": [
    {
     "name": "stdout",
     "output_type": "stream",
     "text": [
      "x_train : \n",
      "[[ 8]\n",
      " [ 9]\n",
      " [11]\n",
      " [16]\n",
      " [12]]\n",
      "\n",
      "y_train : [11.   8.5 15.  18.  11. ]\n"
     ]
    }
   ],
   "source": [
    "x_train = b.array(train_pizza_df['diameter']).reshape(-1, 1)\n",
    "y_train = b.array(train_pizza_df['harga'])\n",
    "print(f'x_train : \\n{x_train}\\n')\n",
    "print(f'y_train : {y_train}')"
   ]
  },
  {
   "cell_type": "code",
   "execution_count": 10,
   "id": "53a097e2",
   "metadata": {},
   "outputs": [
    {
     "name": "stdout",
     "output_type": "stream",
     "text": [
      "x_train_quadratic : \n",
      "[[  1.   8.  64.]\n",
      " [  1.   9.  81.]\n",
      " [  1.  11. 121.]\n",
      " [  1.  16. 256.]\n",
      " [  1.  12. 144.]]\n",
      "\n"
     ]
    }
   ],
   "source": [
    "from sklearn.preprocessing import PolynomialFeatures\n",
    "quadratic_feature = PolynomialFeatures(degree = 2)\n",
    "x_train_quadratic = quadratic_feature.fit_transform(x_train)\n",
    "print(f'x_train_quadratic : \\n{x_train_quadratic}\\n')"
   ]
  },
  {
   "cell_type": "code",
   "execution_count": 11,
   "id": "ed1bd6d0",
   "metadata": {},
   "outputs": [
    {
     "data": {
      "text/plain": [
       "LinearRegression()"
      ]
     },
     "execution_count": 11,
     "metadata": {},
     "output_type": "execute_result"
    }
   ],
   "source": [
    "model = LinearRegression()\n",
    "model.fit(x_train_quadratic, y_train)"
   ]
  },
  {
   "cell_type": "code",
   "execution_count": 13,
   "id": "34aa5788",
   "metadata": {},
   "outputs": [
    {
     "data": {
      "image/png": "[encoded data removed]",
      "text/plain": [
       "<Figure size 432x288 with 1 Axes>"
      ]
     },
     "metadata": {
      "needs_background": "light"
     },
     "output_type": "display_data"
    }
   ],
   "source": [
    "import matplotlib.pyplot as c\n",
    "x_vis = b.linspace(0, 25, 100).reshape(-1, 1)\n",
    "x_vis_quadratic = quadratic_feature.transform(x_vis)\n",
    "y_vis_quadratic = model.predict(x_vis_quadratic)\n",
    "c.scatter(x_train, y_train)\n",
    "c.plot(x_vis, y_vis_quadratic, '-r')\n",
    "c.title('perbandingan diameter dan harga pizza')\n",
    "c.xlabel('diameter(inch)')\n",
    "c.ylabel('harga(dollar)')\n",
    "c.xlim(0, 25)\n",
    "c.ylim(0, 25)\n",
    "c.grid(True)\n",
    "c.show()"
   ]
  },
  {
   "cell_type": "code",
   "execution_count": 16,
   "id": "3248d076",
   "metadata": {},
   "outputs": [
    {
     "data": {
      "image/png": "[encoded data removed]",
      "text/plain": [
       "<Figure size 432x288 with 1 Axes>"
      ]
     },
     "metadata": {
      "needs_background": "light"
     },
     "output_type": "display_data"
    }
   ],
   "source": [
    "c.scatter(x_train, y_train)\n",
    "\n",
    "model = LinearRegression()\n",
    "model.fit(x_train, y_train)\n",
    "x_vis = b.linspace(0, 25, 100).reshape(-1, 1)\n",
    "y_vis = model.predict(x_vis)\n",
    "c.plot(x_vis, y_vis, '--r', label = 'linear')\n",
    "\n",
    "quadratic_feature = PolynomialFeatures (degree = 2)\n",
    "x_train_quadratic = quadratic_feature.fit_transform(x_train)\n",
    "model = LinearRegression()\n",
    "model.fit(x_train_quadratic, y_train)\n",
    "x_vis_quadratic = quadratic_feature.transform(x_vis)\n",
    "y_vis = model.predict(x_vis_quadratic)\n",
    "c.plot(x_vis, y_vis, '--g', label = 'quadratic')\n",
    "\n",
    "cubic_feature = PolynomialFeatures(degree = 3)\n",
    "x_train_cubic = cubic_feature.fit_transform(x_train)\n",
    "model = LinearRegression()\n",
    "model.fit(x_train_cubic, y_train)\n",
    "x_vis_cubic = cubic_feature.transform(x_vis)\n",
    "y_vis = model.predict(x_vis_cubic)\n",
    "c.plot(x_vis, y_vis, '--y', label = 'cubic')\n",
    "\n",
    "c.title('perbandingan diameter dan harga pizza')\n",
    "c.xlabel('diameter (inch)')\n",
    "c.ylabel('harga (dollar)')\n",
    "c.legend()\n",
    "c.xlim(0, 25)\n",
    "c.ylim(0, 25)\n",
    "c.grid(True)\n",
    "c.show()"
   ]
  }
 ],
 "metadata": {
  "kernelspec": {
   "display_name": "Python 3",
   "language": "python",
   "name": "python3"
  },
  "language_info": {
   "codemirror_mode": {
    "name": "ipython",
    "version": 3
   },
   "file_extension": ".py",
   "mimetype": "text/x-python",
   "name": "python",
   "nbconvert_exporter": "python",
   "pygments_lexer": "ipython3",
   "version": "3.8.8"
  }
 },
 "nbformat": 4,
 "nbformat_minor": 5
}
